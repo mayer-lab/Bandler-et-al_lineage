{
 "cells": [
  {
   "cell_type": "code",
   "execution_count": 1,
   "metadata": {},
   "outputs": [],
   "source": [
    "EXTRACTED_FASTQ = 'DI_T_199_extracted.fastq' # path to extracted fasq files containing lineage barcodes\n",
    "REFORMATTED_FASTA = \"sorted_and_filtered_DI_T_199.fa\" # path to reformatted fasta fileRE\n",
    "LIB = \"lib199,\" # string indicating which library the file came from\n",
    "LIB_TXT = 'DI_T_199_lib.txt' # path to library text file for input into LARRY\n"
   ]
  },
  {
   "cell_type": "markdown",
   "metadata": {},
   "source": [
    "### Reformatting\n",
    "\n",
    "For barcodeList[i][X:X], you want to set the range to the position where the cell barcode and UMI starts and ends. \n",
    "The first instance of barcodeList[i] is to extract the cell barcode. The second instance is to extract the UMI. "
   ]
  },
  {
   "cell_type": "code",
   "execution_count": 10,
   "metadata": {},
   "outputs": [],
   "source": [
    "file = open(EXTRACTED_FASTQ, 'r')\n",
    "barcodeList = file.readlines()\n",
    "\n",
    "for i in range(0, len(barcodeList), 4):\n",
    "    barcodeList[i] = \">\" + LIB + barcodeList[i][40:56] + \",\" + barcodeList[i][57:67] "
   ]
  },
  {
   "cell_type": "code",
   "execution_count": 11,
   "metadata": {},
   "outputs": [],
   "source": [
    "with open(REFORMATTED_FASTA,\"w\") as f:\n",
    "    for i in range(0,len(barcodeList), 4):\n",
    "        f.write(str(barcodeList[i]) + \"\\n\" + str(barcodeList[i+1]))"
   ]
  },
  {
   "cell_type": "code",
   "execution_count": 12,
   "metadata": {},
   "outputs": [],
   "source": [
    "file_list = open(REFORMATTED_FASTA, 'r')\n",
    "filtered_bc_list = file_list.readlines()\n",
    "with open(LIB_TXT, \"w\") as f:\n",
    "    for i in range(0,len(filtered_bc_list),4):\n",
    "        f.write(str(filtered_bc_list[i][1:7]) + \"\\n\")# change range from 1:7 to 1:X (X being how long your LIB string is)"
   ]
  }
 ],
 "metadata": {
  "kernelspec": {
   "display_name": "Python 3",
   "language": "python",
   "name": "python3"
  },
  "language_info": {
   "codemirror_mode": {
    "name": "ipython",
    "version": 3
   },
   "file_extension": ".py",
   "mimetype": "text/x-python",
   "name": "python",
   "nbconvert_exporter": "python",
   "pygments_lexer": "ipython3",
   "version": "3.7.1"
  }
 },
 "nbformat": 4,
 "nbformat_minor": 4
}
