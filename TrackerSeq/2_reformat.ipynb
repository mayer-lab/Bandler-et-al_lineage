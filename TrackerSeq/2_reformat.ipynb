{
 "cells": [
  {
   "cell_type": "code",
   "execution_count": 183,
   "metadata": {},
   "outputs": [],
   "source": [
    "EXTRACTED_FASTQ = '/path/dataset_barcode_extracted.fastq' # path to extracted fasq files containing lineage barcodes\n",
    "REFORMATTED_FASTA = \"/path/dataset_barcode_reformat.fa\" # path to reformatted fasta fileRE\n",
    "LIB = \"dataset,\" # string indicating which library the file came from including the comma\n",
    "LIB_TXT = '/path/to/dataset_lib.txt' # path to library text file for input into LARRY"
   ]
  },
  {
   "cell_type": "markdown",
   "metadata": {},
   "source": [
    "### Reformatting\n"
   ]
  },
  {
   "cell_type": "code",
   "execution_count": 190,
   "metadata": {},
   "outputs": [],
   "source": [
    "def find_between( s, first, last ):\n",
    "    try:\n",
    "        start = s.index( first ) + len( first )\n",
    "        end = s.index( last, start )\n",
    "        return s[start:end]\n",
    "    except ValueError:\n",
    "        return \"\"\n",
    "    \n",
    "def find_between_r( s, first, last ):\n",
    "    try:\n",
    "        start = s.rindex( first ) + len( first )\n",
    "        end = s.rindex( last, start )\n",
    "        return s[start:end]\n",
    "    except ValueError:\n",
    "        return \"\""
   ]
  },
  {
   "cell_type": "code",
   "execution_count": 191,
   "metadata": {},
   "outputs": [],
   "source": [
    "file = open(EXTRACTED_FASTQ, 'r')\n",
    "barcodeList = file.readlines()"
   ]
  },
  {
   "cell_type": "code",
   "execution_count": 192,
   "metadata": {},
   "outputs": [],
   "source": [
    "for i in range(0, len(barcodeList), 4):\n",
    "    barcodeList[i] = \">\" + LIB + find_between(barcodeList[i], \"_\", \"_\" ) + \",\" + find_between_r(barcodeList[i], \"_\", \" \")"
   ]
  },
  {
   "cell_type": "code",
   "execution_count": 193,
   "metadata": {},
   "outputs": [],
   "source": [
    "with open(REFORMATTED_FASTA,\"w\") as f:\n",
    "    for i in range(0,len(barcodeList), 4):\n",
    "        f.write(str(barcodeList[i]) + \"\\n\" + str(barcodeList[i+1]))"
   ]
  },
  {
   "cell_type": "code",
   "execution_count": 198,
   "metadata": {},
   "outputs": [],
   "source": [
    "file_list = open(REFORMATTED_FASTA, 'r')\n",
    "filtered_bc_list = file_list.readlines()\n",
    "with open(LIB_TXT, \"w\") as f:\n",
    "    for i in range(0,len(filtered_bc_list),4):\n",
    "        f.write(str(find_between(filtered_bc_list[i], \">\", \",\") + \"\\n\"))"
   ]
  }
 ],
 "metadata": {
  "kernelspec": {
   "display_name": "Python 3",
   "language": "python",
   "name": "python3"
  },
  "language_info": {
   "codemirror_mode": {
    "name": "ipython",
    "version": 3
   },
   "file_extension": ".py",
   "mimetype": "text/x-python",
   "name": "python",
   "nbconvert_exporter": "python",
   "pygments_lexer": "ipython3",
   "version": "3.6.8"
  }
 },
 "nbformat": 4,
 "nbformat_minor": 4
}
